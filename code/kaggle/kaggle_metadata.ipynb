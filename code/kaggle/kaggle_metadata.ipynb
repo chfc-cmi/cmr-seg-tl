{
 "cells": [
  {
   "cell_type": "code",
   "execution_count": 1,
   "metadata": {},
   "outputs": [
    {
     "name": "stderr",
     "output_type": "stream",
     "text": [
      "Registered S3 methods overwritten by 'ggplot2':\n",
      "  method         from \n",
      "  [.quosures     rlang\n",
      "  c.quosures     rlang\n",
      "  print.quosures rlang\n",
      "Registered S3 method overwritten by 'rvest':\n",
      "  method            from\n",
      "  read_xml.response xml2\n",
      "── Attaching packages ─────────────────────────────────────── tidyverse 1.2.1 ──\n",
      "✔ ggplot2 3.1.1       ✔ purrr   0.3.2  \n",
      "✔ tibble  2.1.1       ✔ dplyr   0.8.0.1\n",
      "✔ tidyr   0.8.3       ✔ stringr 1.4.0  \n",
      "✔ readr   1.3.1       ✔ forcats 0.4.0  \n",
      "── Conflicts ────────────────────────────────────────── tidyverse_conflicts() ──\n",
      "✖ dplyr::filter() masks stats::filter()\n",
      "✖ dplyr::lag()    masks stats::lag()\n"
     ]
    }
   ],
   "source": [
    "library(tidyverse)"
   ]
  },
  {
   "cell_type": "code",
   "execution_count": 2,
   "metadata": {},
   "outputs": [
    {
     "name": "stderr",
     "output_type": "stream",
     "text": [
      "Parsed with column specification:\n",
      "cols(\n",
      "  .default = col_character(),\n",
      "  `Patient ID` = col_double(),\n",
      "  `Patient's Birth Date` = col_double(),\n",
      "  `Patient's Address` = col_logical(),\n",
      "  `Patient's Telephone Numbers` = col_logical(),\n",
      "  `Slice Thickness` = col_double(),\n",
      "  `Repetition Time` = col_double(),\n",
      "  `Echo Time` = col_double(),\n",
      "  `Number of Averages` = col_double(),\n",
      "  `Imaging Frequency` = col_double(),\n",
      "  `Echo Number(s)` = col_double(),\n",
      "  `Magnetic Field Strength` = col_double(),\n",
      "  `Number of Phase Encoding Steps` = col_double(),\n",
      "  `Echo Train Length` = col_double(),\n",
      "  `Percent Sampling` = col_double(),\n",
      "  `Percent Phase Field of View` = col_double(),\n",
      "  `Pixel Bandwidth` = col_double(),\n",
      "  `Trigger Time` = col_double(),\n",
      "  `Nominal Interval` = col_double(),\n",
      "  `Cardiac Number of Images` = col_double(),\n",
      "  `Flip Angle` = col_double()\n",
      "  # ... with 30 more columns\n",
      ")\n",
      "See spec(...) for full column specifications.\n"
     ]
    }
   ],
   "source": [
    "metadata <- read_tsv(\"../../analysis/kaggle/combined_metadata.tsv.xz\", guess_max = 200000)"
   ]
  },
  {
   "cell_type": "code",
   "execution_count": 3,
   "metadata": {},
   "outputs": [
    {
     "name": "stderr",
     "output_type": "stream",
     "text": [
      "Parsed with column specification:\n",
      "cols(\n",
      "  .default = col_double(),\n",
      "  PatientsAgeNum = col_character(),\n",
      "  PatientsAgeUnit = col_character(),\n",
      "  PatientsSex = col_character(),\n",
      "  pid = col_character(),\n",
      "  used = col_logical(),\n",
      "  set = col_character(),\n",
      "  PhaseEncodingDirection = col_character(),\n",
      "  ModelName = col_character(),\n",
      "  PixelSpacing = col_character(),\n",
      "  ScanningSequence = col_character(),\n",
      "  SequenceName = col_character(),\n",
      "  SequenceVariant = col_character(),\n",
      "  SoftwareVersion = col_character(),\n",
      "  inconsistentMetadata = col_logical()\n",
      ")\n",
      "See spec(...) for full column specifications.\n"
     ]
    }
   ],
   "source": [
    "patient_metadata <- read_tsv(\"../../analysis/kaggle/patient_metadata.tsv\")"
   ]
  },
  {
   "cell_type": "markdown",
   "metadata": {},
   "source": [
    "## Explore the available metadata"
   ]
  },
  {
   "cell_type": "code",
   "execution_count": 4,
   "metadata": {},
   "outputs": [
    {
     "data": {
      "text/html": [
       "<ol class=list-inline>\n",
       "\t<li>'Specific Character Set'</li>\n",
       "\t<li>'Image Type'</li>\n",
       "\t<li>'Instance Creation Time'</li>\n",
       "\t<li>'SOP Class UID'</li>\n",
       "\t<li>'SOP Instance UID'</li>\n",
       "\t<li>'Study Time'</li>\n",
       "\t<li>'Series Time'</li>\n",
       "\t<li>'Acquisition Time'</li>\n",
       "\t<li>'Modality'</li>\n",
       "\t<li>'Manufacturer'</li>\n",
       "\t<li>'Series Description'</li>\n",
       "\t<li>'Manufacturer\\'s Model Name'</li>\n",
       "\t<li>'Referenced Image Sequence'</li>\n",
       "\t<li>'Patient\\'s Name'</li>\n",
       "\t<li>'Patient ID'</li>\n",
       "\t<li>'Patient\\'s Birth Date'</li>\n",
       "\t<li>'Patient\\'s Sex'</li>\n",
       "\t<li>'Patient\\'s Age'</li>\n",
       "\t<li>'Patient\\'s Address'</li>\n",
       "\t<li>'Patient\\'s Telephone Numbers'</li>\n",
       "\t<li>'Body Part Examined'</li>\n",
       "\t<li>'Scanning Sequence'</li>\n",
       "\t<li>'Sequence Variant'</li>\n",
       "\t<li>'Scan Options'</li>\n",
       "\t<li>'MR Acquisition Type'</li>\n",
       "\t<li>'Sequence Name'</li>\n",
       "\t<li>'Angio Flag'</li>\n",
       "\t<li>'Slice Thickness'</li>\n",
       "\t<li>'Repetition Time'</li>\n",
       "\t<li>'Echo Time'</li>\n",
       "\t<li>'Number of Averages'</li>\n",
       "\t<li>'Imaging Frequency'</li>\n",
       "\t<li>'Imaged Nucleus'</li>\n",
       "\t<li>'Echo Number(s)'</li>\n",
       "\t<li>'Magnetic Field Strength'</li>\n",
       "\t<li>'Number of Phase Encoding Steps'</li>\n",
       "\t<li>'Echo Train Length'</li>\n",
       "\t<li>'Percent Sampling'</li>\n",
       "\t<li>'Percent Phase Field of View'</li>\n",
       "\t<li>'Pixel Bandwidth'</li>\n",
       "\t<li>'Software Versions'</li>\n",
       "\t<li>'Trigger Time'</li>\n",
       "\t<li>'Nominal Interval'</li>\n",
       "\t<li>'Cardiac Number of Images'</li>\n",
       "\t<li>'Transmit Coil Name'</li>\n",
       "\t<li>'Acquisition Matrix'</li>\n",
       "\t<li>'In-plane Phase Encoding Direction'</li>\n",
       "\t<li>'Flip Angle'</li>\n",
       "\t<li>'Variable Flip Angle Flag'</li>\n",
       "\t<li>'SAR'</li>\n",
       "\t<li>'dB/dt'</li>\n",
       "\t<li>'Patient Position'</li>\n",
       "\t<li>'Series Number'</li>\n",
       "\t<li>'Acquisition Number'</li>\n",
       "\t<li>'Instance Number'</li>\n",
       "\t<li>'Image Position (Patient)'</li>\n",
       "\t<li>'Image Orientation (Patient)'</li>\n",
       "\t<li>'Position Reference Indicator'</li>\n",
       "\t<li>'Slice Location'</li>\n",
       "\t<li>'Samples per Pixel'</li>\n",
       "\t<li>'Photometric Interpretation'</li>\n",
       "\t<li>'Rows'</li>\n",
       "\t<li>'Columns'</li>\n",
       "\t<li>'Pixel Spacing'</li>\n",
       "\t<li>'Bits Allocated'</li>\n",
       "\t<li>'Bits Stored'</li>\n",
       "\t<li>'High Bit'</li>\n",
       "\t<li>'Pixel Representation'</li>\n",
       "\t<li>'Smallest Image Pixel Value'</li>\n",
       "\t<li>'Largest Image Pixel Value'</li>\n",
       "\t<li>'Window Center'</li>\n",
       "\t<li>'Window Width'</li>\n",
       "\t<li>'Window Center &amp; Width Explanation'</li>\n",
       "\t<li>'Performed Procedure Step Start Time'</li>\n",
       "\t<li>'Performed Procedure Step ID'</li>\n",
       "\t<li>'Comments on the Performed Procedure Step'</li>\n",
       "\t<li>'file'</li>\n",
       "\t<li>'dir'</li>\n",
       "\t<li>'Id'</li>\n",
       "\t<li>'Referenced Study Sequence'</li>\n",
       "\t<li>'Referenced Patient Sequence'</li>\n",
       "\t<li>'Spacing Between Slices'</li>\n",
       "\t<li>'Number of Frames'</li>\n",
       "\t<li>'Contrast/Bolus Agent'</li>\n",
       "\t<li>'Contrast/Bolus Volume'</li>\n",
       "\t<li>'Contrast/Bolus Total Dose'</li>\n",
       "\t<li>'Contrast/Bolus Ingredient'</li>\n",
       "\t<li>'Contrast/Bolus Ingredient Concentration'</li>\n",
       "\t<li>'Source Image Sequence'</li>\n",
       "\t<li>'Contrast Flow Duration'</li>\n",
       "\t<li>'pid'</li>\n",
       "\t<li>'slice'</li>\n",
       "\t<li>'frame'</li>\n",
       "\t<li>'used'</li>\n",
       "\t<li>'set'</li>\n",
       "</ol>\n"
      ],
      "text/latex": [
       "\\begin{enumerate*}\n",
       "\\item 'Specific Character Set'\n",
       "\\item 'Image Type'\n",
       "\\item 'Instance Creation Time'\n",
       "\\item 'SOP Class UID'\n",
       "\\item 'SOP Instance UID'\n",
       "\\item 'Study Time'\n",
       "\\item 'Series Time'\n",
       "\\item 'Acquisition Time'\n",
       "\\item 'Modality'\n",
       "\\item 'Manufacturer'\n",
       "\\item 'Series Description'\n",
       "\\item 'Manufacturer\\textbackslash{}'s Model Name'\n",
       "\\item 'Referenced Image Sequence'\n",
       "\\item 'Patient\\textbackslash{}'s Name'\n",
       "\\item 'Patient ID'\n",
       "\\item 'Patient\\textbackslash{}'s Birth Date'\n",
       "\\item 'Patient\\textbackslash{}'s Sex'\n",
       "\\item 'Patient\\textbackslash{}'s Age'\n",
       "\\item 'Patient\\textbackslash{}'s Address'\n",
       "\\item 'Patient\\textbackslash{}'s Telephone Numbers'\n",
       "\\item 'Body Part Examined'\n",
       "\\item 'Scanning Sequence'\n",
       "\\item 'Sequence Variant'\n",
       "\\item 'Scan Options'\n",
       "\\item 'MR Acquisition Type'\n",
       "\\item 'Sequence Name'\n",
       "\\item 'Angio Flag'\n",
       "\\item 'Slice Thickness'\n",
       "\\item 'Repetition Time'\n",
       "\\item 'Echo Time'\n",
       "\\item 'Number of Averages'\n",
       "\\item 'Imaging Frequency'\n",
       "\\item 'Imaged Nucleus'\n",
       "\\item 'Echo Number(s)'\n",
       "\\item 'Magnetic Field Strength'\n",
       "\\item 'Number of Phase Encoding Steps'\n",
       "\\item 'Echo Train Length'\n",
       "\\item 'Percent Sampling'\n",
       "\\item 'Percent Phase Field of View'\n",
       "\\item 'Pixel Bandwidth'\n",
       "\\item 'Software Versions'\n",
       "\\item 'Trigger Time'\n",
       "\\item 'Nominal Interval'\n",
       "\\item 'Cardiac Number of Images'\n",
       "\\item 'Transmit Coil Name'\n",
       "\\item 'Acquisition Matrix'\n",
       "\\item 'In-plane Phase Encoding Direction'\n",
       "\\item 'Flip Angle'\n",
       "\\item 'Variable Flip Angle Flag'\n",
       "\\item 'SAR'\n",
       "\\item 'dB/dt'\n",
       "\\item 'Patient Position'\n",
       "\\item 'Series Number'\n",
       "\\item 'Acquisition Number'\n",
       "\\item 'Instance Number'\n",
       "\\item 'Image Position (Patient)'\n",
       "\\item 'Image Orientation (Patient)'\n",
       "\\item 'Position Reference Indicator'\n",
       "\\item 'Slice Location'\n",
       "\\item 'Samples per Pixel'\n",
       "\\item 'Photometric Interpretation'\n",
       "\\item 'Rows'\n",
       "\\item 'Columns'\n",
       "\\item 'Pixel Spacing'\n",
       "\\item 'Bits Allocated'\n",
       "\\item 'Bits Stored'\n",
       "\\item 'High Bit'\n",
       "\\item 'Pixel Representation'\n",
       "\\item 'Smallest Image Pixel Value'\n",
       "\\item 'Largest Image Pixel Value'\n",
       "\\item 'Window Center'\n",
       "\\item 'Window Width'\n",
       "\\item 'Window Center \\& Width Explanation'\n",
       "\\item 'Performed Procedure Step Start Time'\n",
       "\\item 'Performed Procedure Step ID'\n",
       "\\item 'Comments on the Performed Procedure Step'\n",
       "\\item 'file'\n",
       "\\item 'dir'\n",
       "\\item 'Id'\n",
       "\\item 'Referenced Study Sequence'\n",
       "\\item 'Referenced Patient Sequence'\n",
       "\\item 'Spacing Between Slices'\n",
       "\\item 'Number of Frames'\n",
       "\\item 'Contrast/Bolus Agent'\n",
       "\\item 'Contrast/Bolus Volume'\n",
       "\\item 'Contrast/Bolus Total Dose'\n",
       "\\item 'Contrast/Bolus Ingredient'\n",
       "\\item 'Contrast/Bolus Ingredient Concentration'\n",
       "\\item 'Source Image Sequence'\n",
       "\\item 'Contrast Flow Duration'\n",
       "\\item 'pid'\n",
       "\\item 'slice'\n",
       "\\item 'frame'\n",
       "\\item 'used'\n",
       "\\item 'set'\n",
       "\\end{enumerate*}\n"
      ],
      "text/markdown": [
       "1. 'Specific Character Set'\n",
       "2. 'Image Type'\n",
       "3. 'Instance Creation Time'\n",
       "4. 'SOP Class UID'\n",
       "5. 'SOP Instance UID'\n",
       "6. 'Study Time'\n",
       "7. 'Series Time'\n",
       "8. 'Acquisition Time'\n",
       "9. 'Modality'\n",
       "10. 'Manufacturer'\n",
       "11. 'Series Description'\n",
       "12. 'Manufacturer\\'s Model Name'\n",
       "13. 'Referenced Image Sequence'\n",
       "14. 'Patient\\'s Name'\n",
       "15. 'Patient ID'\n",
       "16. 'Patient\\'s Birth Date'\n",
       "17. 'Patient\\'s Sex'\n",
       "18. 'Patient\\'s Age'\n",
       "19. 'Patient\\'s Address'\n",
       "20. 'Patient\\'s Telephone Numbers'\n",
       "21. 'Body Part Examined'\n",
       "22. 'Scanning Sequence'\n",
       "23. 'Sequence Variant'\n",
       "24. 'Scan Options'\n",
       "25. 'MR Acquisition Type'\n",
       "26. 'Sequence Name'\n",
       "27. 'Angio Flag'\n",
       "28. 'Slice Thickness'\n",
       "29. 'Repetition Time'\n",
       "30. 'Echo Time'\n",
       "31. 'Number of Averages'\n",
       "32. 'Imaging Frequency'\n",
       "33. 'Imaged Nucleus'\n",
       "34. 'Echo Number(s)'\n",
       "35. 'Magnetic Field Strength'\n",
       "36. 'Number of Phase Encoding Steps'\n",
       "37. 'Echo Train Length'\n",
       "38. 'Percent Sampling'\n",
       "39. 'Percent Phase Field of View'\n",
       "40. 'Pixel Bandwidth'\n",
       "41. 'Software Versions'\n",
       "42. 'Trigger Time'\n",
       "43. 'Nominal Interval'\n",
       "44. 'Cardiac Number of Images'\n",
       "45. 'Transmit Coil Name'\n",
       "46. 'Acquisition Matrix'\n",
       "47. 'In-plane Phase Encoding Direction'\n",
       "48. 'Flip Angle'\n",
       "49. 'Variable Flip Angle Flag'\n",
       "50. 'SAR'\n",
       "51. 'dB/dt'\n",
       "52. 'Patient Position'\n",
       "53. 'Series Number'\n",
       "54. 'Acquisition Number'\n",
       "55. 'Instance Number'\n",
       "56. 'Image Position (Patient)'\n",
       "57. 'Image Orientation (Patient)'\n",
       "58. 'Position Reference Indicator'\n",
       "59. 'Slice Location'\n",
       "60. 'Samples per Pixel'\n",
       "61. 'Photometric Interpretation'\n",
       "62. 'Rows'\n",
       "63. 'Columns'\n",
       "64. 'Pixel Spacing'\n",
       "65. 'Bits Allocated'\n",
       "66. 'Bits Stored'\n",
       "67. 'High Bit'\n",
       "68. 'Pixel Representation'\n",
       "69. 'Smallest Image Pixel Value'\n",
       "70. 'Largest Image Pixel Value'\n",
       "71. 'Window Center'\n",
       "72. 'Window Width'\n",
       "73. 'Window Center &amp; Width Explanation'\n",
       "74. 'Performed Procedure Step Start Time'\n",
       "75. 'Performed Procedure Step ID'\n",
       "76. 'Comments on the Performed Procedure Step'\n",
       "77. 'file'\n",
       "78. 'dir'\n",
       "79. 'Id'\n",
       "80. 'Referenced Study Sequence'\n",
       "81. 'Referenced Patient Sequence'\n",
       "82. 'Spacing Between Slices'\n",
       "83. 'Number of Frames'\n",
       "84. 'Contrast/Bolus Agent'\n",
       "85. 'Contrast/Bolus Volume'\n",
       "86. 'Contrast/Bolus Total Dose'\n",
       "87. 'Contrast/Bolus Ingredient'\n",
       "88. 'Contrast/Bolus Ingredient Concentration'\n",
       "89. 'Source Image Sequence'\n",
       "90. 'Contrast Flow Duration'\n",
       "91. 'pid'\n",
       "92. 'slice'\n",
       "93. 'frame'\n",
       "94. 'used'\n",
       "95. 'set'\n",
       "\n",
       "\n"
      ],
      "text/plain": [
       " [1] \"Specific Character Set\"                  \n",
       " [2] \"Image Type\"                              \n",
       " [3] \"Instance Creation Time\"                  \n",
       " [4] \"SOP Class UID\"                           \n",
       " [5] \"SOP Instance UID\"                        \n",
       " [6] \"Study Time\"                              \n",
       " [7] \"Series Time\"                             \n",
       " [8] \"Acquisition Time\"                        \n",
       " [9] \"Modality\"                                \n",
       "[10] \"Manufacturer\"                            \n",
       "[11] \"Series Description\"                      \n",
       "[12] \"Manufacturer's Model Name\"               \n",
       "[13] \"Referenced Image Sequence\"               \n",
       "[14] \"Patient's Name\"                          \n",
       "[15] \"Patient ID\"                              \n",
       "[16] \"Patient's Birth Date\"                    \n",
       "[17] \"Patient's Sex\"                           \n",
       "[18] \"Patient's Age\"                           \n",
       "[19] \"Patient's Address\"                       \n",
       "[20] \"Patient's Telephone Numbers\"             \n",
       "[21] \"Body Part Examined\"                      \n",
       "[22] \"Scanning Sequence\"                       \n",
       "[23] \"Sequence Variant\"                        \n",
       "[24] \"Scan Options\"                            \n",
       "[25] \"MR Acquisition Type\"                     \n",
       "[26] \"Sequence Name\"                           \n",
       "[27] \"Angio Flag\"                              \n",
       "[28] \"Slice Thickness\"                         \n",
       "[29] \"Repetition Time\"                         \n",
       "[30] \"Echo Time\"                               \n",
       "[31] \"Number of Averages\"                      \n",
       "[32] \"Imaging Frequency\"                       \n",
       "[33] \"Imaged Nucleus\"                          \n",
       "[34] \"Echo Number(s)\"                          \n",
       "[35] \"Magnetic Field Strength\"                 \n",
       "[36] \"Number of Phase Encoding Steps\"          \n",
       "[37] \"Echo Train Length\"                       \n",
       "[38] \"Percent Sampling\"                        \n",
       "[39] \"Percent Phase Field of View\"             \n",
       "[40] \"Pixel Bandwidth\"                         \n",
       "[41] \"Software Versions\"                       \n",
       "[42] \"Trigger Time\"                            \n",
       "[43] \"Nominal Interval\"                        \n",
       "[44] \"Cardiac Number of Images\"                \n",
       "[45] \"Transmit Coil Name\"                      \n",
       "[46] \"Acquisition Matrix\"                      \n",
       "[47] \"In-plane Phase Encoding Direction\"       \n",
       "[48] \"Flip Angle\"                              \n",
       "[49] \"Variable Flip Angle Flag\"                \n",
       "[50] \"SAR\"                                     \n",
       "[51] \"dB/dt\"                                   \n",
       "[52] \"Patient Position\"                        \n",
       "[53] \"Series Number\"                           \n",
       "[54] \"Acquisition Number\"                      \n",
       "[55] \"Instance Number\"                         \n",
       "[56] \"Image Position (Patient)\"                \n",
       "[57] \"Image Orientation (Patient)\"             \n",
       "[58] \"Position Reference Indicator\"            \n",
       "[59] \"Slice Location\"                          \n",
       "[60] \"Samples per Pixel\"                       \n",
       "[61] \"Photometric Interpretation\"              \n",
       "[62] \"Rows\"                                    \n",
       "[63] \"Columns\"                                 \n",
       "[64] \"Pixel Spacing\"                           \n",
       "[65] \"Bits Allocated\"                          \n",
       "[66] \"Bits Stored\"                             \n",
       "[67] \"High Bit\"                                \n",
       "[68] \"Pixel Representation\"                    \n",
       "[69] \"Smallest Image Pixel Value\"              \n",
       "[70] \"Largest Image Pixel Value\"               \n",
       "[71] \"Window Center\"                           \n",
       "[72] \"Window Width\"                            \n",
       "[73] \"Window Center & Width Explanation\"       \n",
       "[74] \"Performed Procedure Step Start Time\"     \n",
       "[75] \"Performed Procedure Step ID\"             \n",
       "[76] \"Comments on the Performed Procedure Step\"\n",
       "[77] \"file\"                                    \n",
       "[78] \"dir\"                                     \n",
       "[79] \"Id\"                                      \n",
       "[80] \"Referenced Study Sequence\"               \n",
       "[81] \"Referenced Patient Sequence\"             \n",
       "[82] \"Spacing Between Slices\"                  \n",
       "[83] \"Number of Frames\"                        \n",
       "[84] \"Contrast/Bolus Agent\"                    \n",
       "[85] \"Contrast/Bolus Volume\"                   \n",
       "[86] \"Contrast/Bolus Total Dose\"               \n",
       "[87] \"Contrast/Bolus Ingredient\"               \n",
       "[88] \"Contrast/Bolus Ingredient Concentration\" \n",
       "[89] \"Source Image Sequence\"                   \n",
       "[90] \"Contrast Flow Duration\"                  \n",
       "[91] \"pid\"                                     \n",
       "[92] \"slice\"                                   \n",
       "[93] \"frame\"                                   \n",
       "[94] \"used\"                                    \n",
       "[95] \"set\"                                     "
      ]
     },
     "metadata": {},
     "output_type": "display_data"
    }
   ],
   "source": [
    "metadata %>% colnames"
   ]
  },
  {
   "cell_type": "code",
   "execution_count": 5,
   "metadata": {},
   "outputs": [
    {
     "data": {
      "text/html": [
       "<table>\n",
       "<thead><tr><th scope=col>Manufacturer</th><th scope=col>Manufacturer's Model Name</th><th scope=col>Magnetic Field Strength</th><th scope=col>n</th></tr></thead>\n",
       "<tbody>\n",
       "\t<tr><td>SIEMENS</td><td>Aera   </td><td>1.5    </td><td>333810 </td></tr>\n",
       "\t<tr><td>SIEMENS</td><td>Skyra  </td><td>3.0    </td><td> 39453 </td></tr>\n",
       "</tbody>\n",
       "</table>\n"
      ],
      "text/latex": [
       "\\begin{tabular}{r|llll}\n",
       " Manufacturer & Manufacturer's Model Name & Magnetic Field Strength & n\\\\\n",
       "\\hline\n",
       "\t SIEMENS & Aera    & 1.5     & 333810 \\\\\n",
       "\t SIEMENS & Skyra   & 3.0     &  39453 \\\\\n",
       "\\end{tabular}\n"
      ],
      "text/markdown": [
       "\n",
       "| Manufacturer | Manufacturer's Model Name | Magnetic Field Strength | n |\n",
       "|---|---|---|---|\n",
       "| SIEMENS | Aera    | 1.5     | 333810  |\n",
       "| SIEMENS | Skyra   | 3.0     |  39453  |\n",
       "\n"
      ],
      "text/plain": [
       "  Manufacturer Manufacturer's Model Name Magnetic Field Strength n     \n",
       "1 SIEMENS      Aera                      1.5                     333810\n",
       "2 SIEMENS      Skyra                     3.0                      39453"
      ]
     },
     "metadata": {},
     "output_type": "display_data"
    }
   ],
   "source": [
    "metadata %>% count(`Manufacturer`,`Manufacturer's Model Name`, `Magnetic Field Strength`)"
   ]
  },
  {
   "cell_type": "code",
   "execution_count": 6,
   "metadata": {},
   "outputs": [
    {
     "data": {
      "text/html": [
       "<table>\n",
       "<thead><tr><th scope=col>used</th><th scope=col>n</th></tr></thead>\n",
       "<tbody>\n",
       "\t<tr><td>FALSE </td><td> 15503</td></tr>\n",
       "\t<tr><td> TRUE </td><td>357760</td></tr>\n",
       "</tbody>\n",
       "</table>\n"
      ],
      "text/latex": [
       "\\begin{tabular}{r|ll}\n",
       " used & n\\\\\n",
       "\\hline\n",
       "\t FALSE  &  15503\\\\\n",
       "\t  TRUE  & 357760\\\\\n",
       "\\end{tabular}\n"
      ],
      "text/markdown": [
       "\n",
       "| used | n |\n",
       "|---|---|\n",
       "| FALSE  |  15503 |\n",
       "|  TRUE  | 357760 |\n",
       "\n"
      ],
      "text/plain": [
       "  used  n     \n",
       "1 FALSE  15503\n",
       "2  TRUE 357760"
      ]
     },
     "metadata": {},
     "output_type": "display_data"
    }
   ],
   "source": [
    "metadata %>% count(used)"
   ]
  },
  {
   "cell_type": "markdown",
   "metadata": {},
   "source": [
    "Different kind of inconsistencies mostly on sequence name, dimension, flip angel, etc. Some of these are fixed in the conversion process others are ignored"
   ]
  },
  {
   "cell_type": "code",
   "execution_count": 7,
   "metadata": {},
   "outputs": [
    {
     "data": {
      "text/html": [
       "<table>\n",
       "<thead><tr><th scope=col>inconsistentMetadata</th><th scope=col>n</th></tr></thead>\n",
       "<tbody>\n",
       "\t<tr><td>FALSE</td><td>1116 </td></tr>\n",
       "\t<tr><td> TRUE</td><td>  33 </td></tr>\n",
       "</tbody>\n",
       "</table>\n"
      ],
      "text/latex": [
       "\\begin{tabular}{r|ll}\n",
       " inconsistentMetadata & n\\\\\n",
       "\\hline\n",
       "\t FALSE & 1116 \\\\\n",
       "\t  TRUE &   33 \\\\\n",
       "\\end{tabular}\n"
      ],
      "text/markdown": [
       "\n",
       "| inconsistentMetadata | n |\n",
       "|---|---|\n",
       "| FALSE | 1116  |\n",
       "|  TRUE |   33  |\n",
       "\n"
      ],
      "text/plain": [
       "  inconsistentMetadata n   \n",
       "1 FALSE                1116\n",
       "2  TRUE                  33"
      ]
     },
     "metadata": {},
     "output_type": "display_data"
    }
   ],
   "source": [
    "patient_metadata %>% count(inconsistentMetadata)"
   ]
  },
  {
   "cell_type": "markdown",
   "metadata": {},
   "source": [
    "## Inspect slice spacings"
   ]
  },
  {
   "cell_type": "markdown",
   "metadata": {},
   "source": [
    "These inconsistencies have mostly been fixed in the conversion from dicom to nifti but still show up in the metadata"
   ]
  },
  {
   "cell_type": "code",
   "execution_count": 8,
   "metadata": {},
   "outputs": [],
   "source": [
    "# https://stackoverflow.com/a/8189441\n",
    "Mode <- function(x) {\n",
    "  ux <- unique(x)\n",
    "  ux[which.max(tabulate(match(x, ux)))]\n",
    "}"
   ]
  },
  {
   "cell_type": "code",
   "execution_count": 9,
   "metadata": {},
   "outputs": [],
   "source": [
    "spacing <- metadata %>%\n",
    "    filter(used) %>%\n",
    "    select(PatientID=pid, SliceLocation=`Slice Location`) %>%\n",
    "    unique %>%\n",
    "    group_by(PatientID) %>%\n",
    "    arrange(SliceLocation) %>%\n",
    "    mutate(\n",
    "        dist = SliceLocation-lag(SliceLocation),\n",
    "        meddist = Mode(round(dist,digits = 1)),\n",
    "        dev=abs(dist-meddist)>1,\n",
    "        any_dev=any(dev,na.rm = T)\n",
    "    ) %>%\n",
    "    arrange(PatientID)\n",
    "inconsistent_spacing <- spacing %>%\n",
    "    filter(any_dev)"
   ]
  },
  {
   "cell_type": "code",
   "execution_count": 10,
   "metadata": {},
   "outputs": [
    {
     "data": {
      "image/png": "[encoded data removed]",
      "text/plain": [
       "plot without title"
      ]
     },
     "metadata": {},
     "output_type": "display_data"
    }
   ],
   "source": [
    "# inserted slices are not shown properly as they inherit the original slicelocation from the dicom metadata (but they are fixed in the nifti)\n",
    "inconsistent_spacing %>%\n",
    "    ggplot(aes(y=SliceLocation,yend=SliceLocation,color=dev)) +\n",
    "    geom_segment(x=0,xend=10,lwd=.8) +\n",
    "    facet_wrap(. ~ PatientID, scales=\"free\") +\n",
    "    theme_minimal() +\n",
    "    scale_color_brewer(type=\"qual\",na.value=\"black\")"
   ]
  },
  {
   "cell_type": "markdown",
   "metadata": {},
   "source": [
    "## Age distribution"
   ]
  },
  {
   "cell_type": "code",
   "execution_count": 11,
   "metadata": {},
   "outputs": [
    {
     "data": {
      "image/png": "[encoded data removed]",
      "text/plain": [
       "plot without title"
      ]
     },
     "metadata": {},
     "output_type": "display_data"
    }
   ],
   "source": [
    "patient_metadata %>% ggplot(aes(PatientsAgeYears,color=set)) + geom_density(adjust=.2)"
   ]
  },
  {
   "cell_type": "markdown",
   "metadata": {},
   "source": [
    "## Kaggle Metadata Summary"
   ]
  },
  {
   "cell_type": "markdown",
   "metadata": {},
   "source": [
    "Count patients with split datasets (_a and _b) only once"
   ]
  },
  {
   "cell_type": "code",
   "execution_count": 12,
   "metadata": {},
   "outputs": [],
   "source": [
    "uniq_pat_meta <- patient_metadata %>%\n",
    "    filter(!str_detect(pid,\"_b\"))"
   ]
  },
  {
   "cell_type": "code",
   "execution_count": 13,
   "metadata": {},
   "outputs": [
    {
     "data": {
      "text/html": [
       "<table>\n",
       "<thead><tr><th scope=col>PatientsSex</th><th scope=col>n</th></tr></thead>\n",
       "<tbody>\n",
       "\t<tr><td>F  </td><td>470</td></tr>\n",
       "\t<tr><td>M  </td><td>670</td></tr>\n",
       "</tbody>\n",
       "</table>\n"
      ],
      "text/latex": [
       "\\begin{tabular}{r|ll}\n",
       " PatientsSex & n\\\\\n",
       "\\hline\n",
       "\t F   & 470\\\\\n",
       "\t M   & 670\\\\\n",
       "\\end{tabular}\n"
      ],
      "text/markdown": [
       "\n",
       "| PatientsSex | n |\n",
       "|---|---|\n",
       "| F   | 470 |\n",
       "| M   | 670 |\n",
       "\n"
      ],
      "text/plain": [
       "  PatientsSex n  \n",
       "1 F           470\n",
       "2 M           670"
      ]
     },
     "metadata": {},
     "output_type": "display_data"
    }
   ],
   "source": [
    "uniq_pat_meta %>% count(PatientsSex)"
   ]
  },
  {
   "cell_type": "code",
   "execution_count": 14,
   "metadata": {},
   "outputs": [
    {
     "data": {
      "text/html": [
       "<table>\n",
       "<thead><tr><th scope=col>AgeBin</th><th scope=col>n</th></tr></thead>\n",
       "<tbody>\n",
       "\t<tr><td>(-Inf,17]</td><td>202      </td></tr>\n",
       "\t<tr><td>(17,30]  </td><td>173      </td></tr>\n",
       "\t<tr><td>(30,50]  </td><td>298      </td></tr>\n",
       "\t<tr><td>(50, Inf]</td><td>467      </td></tr>\n",
       "</tbody>\n",
       "</table>\n"
      ],
      "text/latex": [
       "\\begin{tabular}{r|ll}\n",
       " AgeBin & n\\\\\n",
       "\\hline\n",
       "\t (-Inf,17{]} & 202        \\\\\n",
       "\t (17,30{]}   & 173        \\\\\n",
       "\t (30,50{]}   & 298        \\\\\n",
       "\t (50, Inf{]} & 467        \\\\\n",
       "\\end{tabular}\n"
      ],
      "text/markdown": [
       "\n",
       "| AgeBin | n |\n",
       "|---|---|\n",
       "| (-Inf,17] | 202       |\n",
       "| (17,30]   | 173       |\n",
       "| (30,50]   | 298       |\n",
       "| (50, Inf] | 467       |\n",
       "\n"
      ],
      "text/plain": [
       "  AgeBin    n  \n",
       "1 (-Inf,17] 202\n",
       "2 (17,30]   173\n",
       "3 (30,50]   298\n",
       "4 (50, Inf] 467"
      ]
     },
     "metadata": {},
     "output_type": "display_data"
    }
   ],
   "source": [
    "uniq_pat_meta %>%\n",
    "    mutate(AgeBin=cut(PatientsAgeYears, breaks=c(-Inf,17,30,50,Inf))) %>%\n",
    "    select(PatientID,contains(\"Age\")) %>%\n",
    "    count(AgeBin)"
   ]
  },
  {
   "cell_type": "code",
   "execution_count": 15,
   "metadata": {},
   "outputs": [
    {
     "data": {
      "text/html": [
       "<table>\n",
       "<thead><tr><th scope=col>minAge</th><th scope=col>maxAge</th></tr></thead>\n",
       "<tbody>\n",
       "\t<tr><td>0.03846154</td><td>88        </td></tr>\n",
       "</tbody>\n",
       "</table>\n"
      ],
      "text/latex": [
       "\\begin{tabular}{r|ll}\n",
       " minAge & maxAge\\\\\n",
       "\\hline\n",
       "\t 0.03846154 & 88        \\\\\n",
       "\\end{tabular}\n"
      ],
      "text/markdown": [
       "\n",
       "| minAge | maxAge |\n",
       "|---|---|\n",
       "| 0.03846154 | 88         |\n",
       "\n"
      ],
      "text/plain": [
       "  minAge     maxAge\n",
       "1 0.03846154 88    "
      ]
     },
     "metadata": {},
     "output_type": "display_data"
    }
   ],
   "source": [
    "uniq_pat_meta %>% summarize(\n",
    "    minAge = min(PatientsAgeYears),\n",
    "    maxAge = max(PatientsAgeYears),\n",
    "    #minHeight = max(PatientsHeight),\n",
    ")"
   ]
  },
  {
   "cell_type": "code",
   "execution_count": 16,
   "metadata": {},
   "outputs": [
    {
     "data": {
      "text/html": [
       "<table>\n",
       "<thead><tr><th scope=col>MagneticFieldStrength</th><th scope=col>n</th></tr></thead>\n",
       "<tbody>\n",
       "\t<tr><td>1.5 </td><td>1025</td></tr>\n",
       "\t<tr><td>3.0 </td><td> 115</td></tr>\n",
       "</tbody>\n",
       "</table>\n"
      ],
      "text/latex": [
       "\\begin{tabular}{r|ll}\n",
       " MagneticFieldStrength & n\\\\\n",
       "\\hline\n",
       "\t 1.5  & 1025\\\\\n",
       "\t 3.0  &  115\\\\\n",
       "\\end{tabular}\n"
      ],
      "text/markdown": [
       "\n",
       "| MagneticFieldStrength | n |\n",
       "|---|---|\n",
       "| 1.5  | 1025 |\n",
       "| 3.0  |  115 |\n",
       "\n"
      ],
      "text/plain": [
       "  MagneticFieldStrength n   \n",
       "1 1.5                   1025\n",
       "2 3.0                    115"
      ]
     },
     "metadata": {},
     "output_type": "display_data"
    }
   ],
   "source": [
    "uniq_pat_meta %>% count(MagneticFieldStrength)"
   ]
  },
  {
   "cell_type": "code",
   "execution_count": 17,
   "metadata": {},
   "outputs": [
    {
     "data": {
      "text/html": [
       "<table>\n",
       "<tbody>\n",
       "\t<tr><th scope=row>min(EchoTime)</th><td>1.04                                </td></tr>\n",
       "\t<tr><th scope=row>max(EchoTime)</th><td>1.54                                </td></tr>\n",
       "\t<tr><th scope=row>min(RepetitionTime)</th><td>14                                  </td></tr>\n",
       "\t<tr><th scope=row>max(RepetitionTime)</th><td>54.72                               </td></tr>\n",
       "\t<tr><th scope=row>min(PixelBandwidth)</th><td>915                                 </td></tr>\n",
       "\t<tr><th scope=row>max(PixelBandwidth)</th><td>1235                                </td></tr>\n",
       "\t<tr><th scope=row>min(SliceThickness)</th><td>5                                   </td></tr>\n",
       "\t<tr><th scope=row>max(SliceThickness)</th><td>8                                   </td></tr>\n",
       "\t<tr><th scope=row>min(PixelSpacing)</th><td>[0.58928573131561, 0.58928573131561]</td></tr>\n",
       "\t<tr><th scope=row>max(PixelSpacing)</th><td>[1.953125, 1.953125]                </td></tr>\n",
       "\t<tr><th scope=row>min(NumberOfPhaseEncodingSteps)</th><td>112                                 </td></tr>\n",
       "\t<tr><th scope=row>max(NumberOfPhaseEncodingSteps)</th><td>416                                 </td></tr>\n",
       "\t<tr><th scope=row>min(smallerDim)</th><td>120                                 </td></tr>\n",
       "\t<tr><th scope=row>max(smallerDim)</th><td>608                                 </td></tr>\n",
       "\t<tr><th scope=row>min(largerDim)</th><td>160                                 </td></tr>\n",
       "\t<tr><th scope=row>max(largerDim)</th><td>736                                 </td></tr>\n",
       "</tbody>\n",
       "</table>\n"
      ],
      "text/latex": [
       "\\begin{tabular}{r|l}\n",
       "\tmin(EchoTime) & 1.04                                \\\\\n",
       "\tmax(EchoTime) & 1.54                                \\\\\n",
       "\tmin(RepetitionTime) & 14                                  \\\\\n",
       "\tmax(RepetitionTime) & 54.72                               \\\\\n",
       "\tmin(PixelBandwidth) & 915                                 \\\\\n",
       "\tmax(PixelBandwidth) & 1235                                \\\\\n",
       "\tmin(SliceThickness) & 5                                   \\\\\n",
       "\tmax(SliceThickness) & 8                                   \\\\\n",
       "\tmin(PixelSpacing) & {[}0.58928573131561, 0.58928573131561{]}\\\\\n",
       "\tmax(PixelSpacing) & {[}1.953125, 1.953125{]}                \\\\\n",
       "\tmin(NumberOfPhaseEncodingSteps) & 112                                 \\\\\n",
       "\tmax(NumberOfPhaseEncodingSteps) & 416                                 \\\\\n",
       "\tmin(smallerDim) & 120                                 \\\\\n",
       "\tmax(smallerDim) & 608                                 \\\\\n",
       "\tmin(largerDim) & 160                                 \\\\\n",
       "\tmax(largerDim) & 736                                 \\\\\n",
       "\\end{tabular}\n"
      ],
      "text/markdown": [
       "\n",
       "| min(EchoTime) | 1.04                                 |\n",
       "| max(EchoTime) | 1.54                                 |\n",
       "| min(RepetitionTime) | 14                                   |\n",
       "| max(RepetitionTime) | 54.72                                |\n",
       "| min(PixelBandwidth) | 915                                  |\n",
       "| max(PixelBandwidth) | 1235                                 |\n",
       "| min(SliceThickness) | 5                                    |\n",
       "| max(SliceThickness) | 8                                    |\n",
       "| min(PixelSpacing) | [0.58928573131561, 0.58928573131561] |\n",
       "| max(PixelSpacing) | [1.953125, 1.953125]                 |\n",
       "| min(NumberOfPhaseEncodingSteps) | 112                                  |\n",
       "| max(NumberOfPhaseEncodingSteps) | 416                                  |\n",
       "| min(smallerDim) | 120                                  |\n",
       "| max(smallerDim) | 608                                  |\n",
       "| min(largerDim) | 160                                  |\n",
       "| max(largerDim) | 736                                  |\n",
       "\n"
      ],
      "text/plain": [
       "                                [,1]                                \n",
       "min(EchoTime)                   1.04                                \n",
       "max(EchoTime)                   1.54                                \n",
       "min(RepetitionTime)             14                                  \n",
       "max(RepetitionTime)             54.72                               \n",
       "min(PixelBandwidth)             915                                 \n",
       "max(PixelBandwidth)             1235                                \n",
       "min(SliceThickness)             5                                   \n",
       "max(SliceThickness)             8                                   \n",
       "min(PixelSpacing)               [0.58928573131561, 0.58928573131561]\n",
       "max(PixelSpacing)               [1.953125, 1.953125]                \n",
       "min(NumberOfPhaseEncodingSteps) 112                                 \n",
       "max(NumberOfPhaseEncodingSteps) 416                                 \n",
       "min(smallerDim)                 120                                 \n",
       "max(smallerDim)                 608                                 \n",
       "min(largerDim)                  160                                 \n",
       "max(largerDim)                  736                                 "
      ]
     },
     "metadata": {},
     "output_type": "display_data"
    }
   ],
   "source": [
    "uniq_pat_meta %>%\n",
    "    mutate(\n",
    "        smallerDim = pmin(Columns, Rows),\n",
    "        largerDim = pmax(Columns, Rows),\n",
    "    ) %>%\n",
    "    summarize(\n",
    "        min(EchoTime),\n",
    "        max(EchoTime),\n",
    "        min(RepetitionTime),\n",
    "        max(RepetitionTime),\n",
    "        min(PixelBandwidth),\n",
    "        max(PixelBandwidth),\n",
    "        min(SliceThickness),\n",
    "        max(SliceThickness),\n",
    "        min(PixelSpacing),\n",
    "        max(PixelSpacing),\n",
    "        min(NumberOfPhaseEncodingSteps),\n",
    "        max(NumberOfPhaseEncodingSteps),\n",
    "        min(smallerDim),\n",
    "        max(smallerDim),\n",
    "        min(largerDim),\n",
    "        max(largerDim),\n",
    "    ) %>% t"
   ]
  }
 ],
 "metadata": {
  "kernelspec": {
   "display_name": "R",
   "language": "R",
   "name": "ir"
  },
  "language_info": {
   "codemirror_mode": "r",
   "file_extension": ".r",
   "mimetype": "text/x-r-source",
   "name": "R",
   "pygments_lexer": "r",
   "version": "3.6.1"
  }
 },
 "nbformat": 4,
 "nbformat_minor": 4
}

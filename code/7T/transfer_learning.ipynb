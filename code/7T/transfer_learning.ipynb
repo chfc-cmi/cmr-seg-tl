{
 "cells": [
  {
   "cell_type": "markdown",
   "metadata": {},
   "source": [
    "# Transfer Learning Segmentation of 7T images"
   ]
  },
  {
   "cell_type": "markdown",
   "metadata": {},
   "source": [
    "## Setup"
   ]
  },
  {
   "cell_type": "code",
   "execution_count": 1,
   "metadata": {},
   "outputs": [],
   "source": [
    "%reload_ext autoreload\n",
    "%autoreload 2\n",
    "%matplotlib inline"
   ]
  },
  {
   "cell_type": "code",
   "execution_count": 2,
   "metadata": {},
   "outputs": [],
   "source": [
    "from fastai.vision import *\n",
    "from tqdm.notebook import tqdm\n",
    "from pathlib import Path\n",
    "import pandas as pd"
   ]
  },
  {
   "cell_type": "code",
   "execution_count": 3,
   "metadata": {},
   "outputs": [],
   "source": [
    "from fastai.callbacks import CSVLogger"
   ]
  },
  {
   "cell_type": "code",
   "execution_count": 4,
   "metadata": {},
   "outputs": [],
   "source": [
    "torch.cuda.set_device(1)"
   ]
  },
  {
   "cell_type": "code",
   "execution_count": 5,
   "metadata": {},
   "outputs": [],
   "source": [
    "def acc_seg(input, target):\n",
    "    target = target.squeeze(1)\n",
    "    return (input.argmax(dim=1)==target).float().mean()\n",
    "def multi_dice(input:Tensor, targs:Tensor, class_id=0, inverse=False)->Rank0Tensor:\n",
    "    n = targs.shape[0]\n",
    "    input = input.argmax(dim=1).view(n,-1)\n",
    "    # replace all with class_id with 1 all else with 0 to have binary case\n",
    "    output = (input == class_id).float()\n",
    "    # same for targs\n",
    "    targs = (targs.view(n,-1) == class_id).float()\n",
    "    if inverse:\n",
    "        output = 1 - output\n",
    "        targs = 1 - targs\n",
    "    intersect = (output * targs).sum(dim=1).float()\n",
    "    union = (output+targs).sum(dim=1).float()\n",
    "    res = 2. * intersect / union\n",
    "    res[torch.isnan(res)] = 1\n",
    "    return res.mean()"
   ]
  },
  {
   "cell_type": "code",
   "execution_count": 6,
   "metadata": {},
   "outputs": [],
   "source": [
    "dice0inv = partial(multi_dice, class_id=0, inverse=True)\n",
    "dice1 = partial(multi_dice, class_id=1)\n",
    "dice2 = partial(multi_dice, class_id=2)\n",
    "dice0inv.__name__ = 'diceComb'\n",
    "dice1.__name__ = 'diceLV'\n",
    "dice2.__name__ = 'diceMY'"
   ]
  },
  {
   "cell_type": "code",
   "execution_count": 7,
   "metadata": {},
   "outputs": [],
   "source": [
    "get_y_fn = lambda x: str(x).replace(\"image\", \"mask\")"
   ]
  },
  {
   "cell_type": "code",
   "execution_count": 8,
   "metadata": {},
   "outputs": [],
   "source": [
    "src = (SegmentationItemList.from_folder(\"images\", presort=True)\n",
    "       .split_by_folder(train=\"train\", valid=\"val\")\n",
    "       .label_from_func(get_y_fn, classes=np.array([\"background\",\"left_ventricle\",\"myocardium\"])))"
   ]
  },
  {
   "cell_type": "code",
   "execution_count": 9,
   "metadata": {},
   "outputs": [],
   "source": [
    "# tfms = get_transforms(do_flip=False,max_rotate=20,max_lighting=.4,max_zoom=1.2)\n",
    "# use extreme transforms\n",
    "tfms = get_transforms(do_flip=True,max_rotate=90,max_lighting=.4,max_zoom=1.2)"
   ]
  },
  {
   "cell_type": "code",
   "execution_count": 10,
   "metadata": {},
   "outputs": [],
   "source": [
    "data = (src.transform(tfms,size=256,padding_mode=\"zeros\",resize_method=ResizeMethod.PAD,tfm_y=True)\n",
    "       .add_test_folder(\"test\", tfm_y=False)\n",
    "       .databunch(bs=8)\n",
    "       .normalize(imagenet_stats))"
   ]
  },
  {
   "cell_type": "code",
   "execution_count": 12,
   "metadata": {},
   "outputs": [
    {
     "data": {
      "text/plain": [
       "ImageDataBunch;\n",
       "\n",
       "Train: LabelList (5076 items)\n",
       "x: SegmentationItemList\n",
       "Image (3, 256, 256),Image (3, 256, 256),Image (3, 256, 256),Image (3, 256, 256),Image (3, 256, 256)\n",
       "y: SegmentationLabelList\n",
       "ImageSegment (1, 256, 256),ImageSegment (1, 256, 256),ImageSegment (1, 256, 256),ImageSegment (1, 256, 256),ImageSegment (1, 256, 256)\n",
       "Path: images;\n",
       "\n",
       "Valid: LabelList (1842 items)\n",
       "x: SegmentationItemList\n",
       "Image (3, 256, 256),Image (3, 256, 256),Image (3, 256, 256),Image (3, 256, 256),Image (3, 256, 256)\n",
       "y: SegmentationLabelList\n",
       "ImageSegment (1, 256, 256),ImageSegment (1, 256, 256),ImageSegment (1, 256, 256),ImageSegment (1, 256, 256),ImageSegment (1, 256, 256)\n",
       "Path: images;\n",
       "\n",
       "Test: LabelList (955 items)\n",
       "x: SegmentationItemList\n",
       "Image (3, 256, 256),Image (3, 256, 256),Image (3, 256, 256),Image (3, 256, 256),Image (3, 256, 256)\n",
       "y: EmptyLabelList\n",
       ",,,,\n",
       "Path: images"
      ]
     },
     "execution_count": 12,
     "metadata": {},
     "output_type": "execute_result"
    }
   ],
   "source": [
    "data"
   ]
  },
  {
   "cell_type": "code",
   "execution_count": 13,
   "metadata": {},
   "outputs": [
    {
     "data": {
      "text/plain": [
       "ImageList (7873 items)\n",
       "Image (3, 472, 512),Image (3, 472, 512),Image (3, 512, 472),Image (3, 512, 472),Image (3, 512, 472)\n",
       "Path: images"
      ]
     },
     "execution_count": 13,
     "metadata": {},
     "output_type": "execute_result"
    }
   ],
   "source": [
    "# All images as testData for full prediction\n",
    "testData = ImageList.from_folder(\"images\")\n",
    "testData"
   ]
  },
  {
   "cell_type": "code",
   "execution_count": 14,
   "metadata": {},
   "outputs": [],
   "source": [
    "def make_full_predictions(modelFile, name):\n",
    "    learn = load_learner('images',modelFile,test=testData,tfm_y=False)\n",
    "    preds,_ = learn.get_preds(DatasetType.Test)\n",
    "    for d in ['preds{}/{}/{}'.format(i,name,j) for i in ['', '_raw'] for j in ['test','val','train']]:\n",
    "        os.makedirs(d,exist_ok=True)\n",
    "    for i in tqdm(range(len(preds))):\n",
    "        p = preds[i]\n",
    "        file = str(testData.items[i])\n",
    "        raw_file = file.replace(\"images\",\"preds_raw/{}\".format(name))\n",
    "        Image(p).save(raw_file)\n",
    "        pred_file = file.replace(\"images\",\"preds/{}\".format(name))\n",
    "        PIL.Image.fromarray(np.array(p.argmax(dim=0), dtype=np.int32),'I').save(pred_file)\n",
    "    return preds"
   ]
  },
  {
   "cell_type": "markdown",
   "metadata": {},
   "source": [
    "## Plain Learning (random init)"
   ]
  },
  {
   "cell_type": "code",
   "execution_count": 18,
   "metadata": {},
   "outputs": [],
   "source": [
    "plainLearn = unet_learner(data, models.resnet34, pretrained=False, metrics=[acc_seg,dice0inv,dice1,dice2], callback_fns=[partial(CSVLogger, append=True, filename=\"plainLearn_log\")])"
   ]
  },
  {
   "cell_type": "code",
   "execution_count": 19,
   "metadata": {},
   "outputs": [],
   "source": [
    "# unfreeze directly, as the weights are random there is no point in freezing them\n",
    "plainLearn.unfreeze()"
   ]
  },
  {
   "cell_type": "code",
   "execution_count": 20,
   "metadata": {},
   "outputs": [
    {
     "data": {
      "text/html": [],
      "text/plain": [
       "<IPython.core.display.HTML object>"
      ]
     },
     "metadata": {},
     "output_type": "display_data"
    },
    {
     "name": "stdout",
     "output_type": "stream",
     "text": [
      "LR Finder is complete, type {learner_name}.recorder.plot() to see the graph.\n"
     ]
    },
    {
     "data": {
      "image/png": "[encoded data removed]",
      "text/plain": [
       "<Figure size 432x288 with 1 Axes>"
      ]
     },
     "metadata": {
      "needs_background": "light"
     },
     "output_type": "display_data"
    }
   ],
   "source": [
    "lr_find(plainLearn)\n",
    "plainLearn.recorder.plot()"
   ]
  },
  {
   "cell_type": "code",
   "execution_count": 21,
   "metadata": {},
   "outputs": [
    {
     "data": {
      "text/html": [
       "<table border=\"1\" class=\"dataframe\">\n",
       "  <thead>\n",
       "    <tr style=\"text-align: left;\">\n",
       "      <th>epoch</th>\n",
       "      <th>train_loss</th>\n",
       "      <th>valid_loss</th>\n",
       "      <th>acc_seg</th>\n",
       "      <th>diceComb</th>\n",
       "      <th>diceLV</th>\n",
       "      <th>diceMY</th>\n",
       "      <th>time</th>\n",
       "    </tr>\n",
       "  </thead>\n",
       "  <tbody>\n",
       "    <tr>\n",
       "      <td>0</td>\n",
       "      <td>0.052986</td>\n",
       "      <td>0.045612</td>\n",
       "      <td>0.983289</td>\n",
       "      <td>0.621526</td>\n",
       "      <td>0.574484</td>\n",
       "      <td>0.248142</td>\n",
       "      <td>11:50</td>\n",
       "    </tr>\n",
       "    <tr>\n",
       "      <td>1</td>\n",
       "      <td>0.028847</td>\n",
       "      <td>0.029132</td>\n",
       "      <td>0.990065</td>\n",
       "      <td>0.671092</td>\n",
       "      <td>0.682669</td>\n",
       "      <td>0.445890</td>\n",
       "      <td>11:40</td>\n",
       "    </tr>\n",
       "    <tr>\n",
       "      <td>2</td>\n",
       "      <td>0.020137</td>\n",
       "      <td>0.016272</td>\n",
       "      <td>0.993833</td>\n",
       "      <td>0.811782</td>\n",
       "      <td>0.811573</td>\n",
       "      <td>0.650918</td>\n",
       "      <td>11:39</td>\n",
       "    </tr>\n",
       "    <tr>\n",
       "      <td>3</td>\n",
       "      <td>0.014801</td>\n",
       "      <td>0.013594</td>\n",
       "      <td>0.994984</td>\n",
       "      <td>0.837940</td>\n",
       "      <td>0.846688</td>\n",
       "      <td>0.665616</td>\n",
       "      <td>11:36</td>\n",
       "    </tr>\n",
       "    <tr>\n",
       "      <td>4</td>\n",
       "      <td>0.013254</td>\n",
       "      <td>0.014086</td>\n",
       "      <td>0.994595</td>\n",
       "      <td>0.810198</td>\n",
       "      <td>0.793858</td>\n",
       "      <td>0.648907</td>\n",
       "      <td>11:36</td>\n",
       "    </tr>\n",
       "    <tr>\n",
       "      <td>5</td>\n",
       "      <td>0.010530</td>\n",
       "      <td>0.011903</td>\n",
       "      <td>0.995219</td>\n",
       "      <td>0.843521</td>\n",
       "      <td>0.841745</td>\n",
       "      <td>0.699564</td>\n",
       "      <td>11:29</td>\n",
       "    </tr>\n",
       "    <tr>\n",
       "      <td>6</td>\n",
       "      <td>0.009668</td>\n",
       "      <td>0.010651</td>\n",
       "      <td>0.995664</td>\n",
       "      <td>0.881335</td>\n",
       "      <td>0.873510</td>\n",
       "      <td>0.733801</td>\n",
       "      <td>11:28</td>\n",
       "    </tr>\n",
       "    <tr>\n",
       "      <td>7</td>\n",
       "      <td>0.008794</td>\n",
       "      <td>0.009695</td>\n",
       "      <td>0.996147</td>\n",
       "      <td>0.888178</td>\n",
       "      <td>0.880122</td>\n",
       "      <td>0.752406</td>\n",
       "      <td>11:31</td>\n",
       "    </tr>\n",
       "    <tr>\n",
       "      <td>8</td>\n",
       "      <td>0.007981</td>\n",
       "      <td>0.010201</td>\n",
       "      <td>0.996008</td>\n",
       "      <td>0.894655</td>\n",
       "      <td>0.886346</td>\n",
       "      <td>0.760592</td>\n",
       "      <td>11:33</td>\n",
       "    </tr>\n",
       "    <tr>\n",
       "      <td>9</td>\n",
       "      <td>0.008276</td>\n",
       "      <td>0.010206</td>\n",
       "      <td>0.996070</td>\n",
       "      <td>0.900008</td>\n",
       "      <td>0.891930</td>\n",
       "      <td>0.766380</td>\n",
       "      <td>11:31</td>\n",
       "    </tr>\n",
       "  </tbody>\n",
       "</table>"
      ],
      "text/plain": [
       "<IPython.core.display.HTML object>"
      ]
     },
     "metadata": {},
     "output_type": "display_data"
    }
   ],
   "source": [
    "lr=1e-4\n",
    "plainLearn.fit_one_cycle(10,lr)\n",
    "plainLearn.save('plainLearn-unfrozen-10')"
   ]
  },
  {
   "cell_type": "code",
   "execution_count": 22,
   "metadata": {},
   "outputs": [
    {
     "data": {
      "text/html": [],
      "text/plain": [
       "<IPython.core.display.HTML object>"
      ]
     },
     "metadata": {},
     "output_type": "display_data"
    },
    {
     "name": "stdout",
     "output_type": "stream",
     "text": [
      "LR Finder is complete, type {learner_name}.recorder.plot() to see the graph.\n"
     ]
    },
    {
     "data": {
      "text/html": [
       "<table border=\"1\" class=\"dataframe\">\n",
       "  <thead>\n",
       "    <tr style=\"text-align: left;\">\n",
       "      <th>epoch</th>\n",
       "      <th>train_loss</th>\n",
       "      <th>valid_loss</th>\n",
       "      <th>acc_seg</th>\n",
       "      <th>diceComb</th>\n",
       "      <th>diceLV</th>\n",
       "      <th>diceMY</th>\n",
       "      <th>time</th>\n",
       "    </tr>\n",
       "  </thead>\n",
       "  <tbody>\n",
       "    <tr>\n",
       "      <td>0</td>\n",
       "      <td>0.007731</td>\n",
       "      <td>0.010222</td>\n",
       "      <td>0.996058</td>\n",
       "      <td>0.901971</td>\n",
       "      <td>0.893940</td>\n",
       "      <td>0.769092</td>\n",
       "      <td>11:33</td>\n",
       "    </tr>\n",
       "    <tr>\n",
       "      <td>1</td>\n",
       "      <td>0.007986</td>\n",
       "      <td>0.009993</td>\n",
       "      <td>0.996053</td>\n",
       "      <td>0.889209</td>\n",
       "      <td>0.882385</td>\n",
       "      <td>0.756177</td>\n",
       "      <td>11:36</td>\n",
       "    </tr>\n",
       "    <tr>\n",
       "      <td>2</td>\n",
       "      <td>0.007750</td>\n",
       "      <td>0.010172</td>\n",
       "      <td>0.996011</td>\n",
       "      <td>0.899675</td>\n",
       "      <td>0.890868</td>\n",
       "      <td>0.766701</td>\n",
       "      <td>11:35</td>\n",
       "    </tr>\n",
       "    <tr>\n",
       "      <td>3</td>\n",
       "      <td>0.007635</td>\n",
       "      <td>0.010441</td>\n",
       "      <td>0.996017</td>\n",
       "      <td>0.896895</td>\n",
       "      <td>0.886460</td>\n",
       "      <td>0.762595</td>\n",
       "      <td>11:34</td>\n",
       "    </tr>\n",
       "    <tr>\n",
       "      <td>4</td>\n",
       "      <td>0.007324</td>\n",
       "      <td>0.010092</td>\n",
       "      <td>0.996087</td>\n",
       "      <td>0.894563</td>\n",
       "      <td>0.890066</td>\n",
       "      <td>0.763968</td>\n",
       "      <td>11:33</td>\n",
       "    </tr>\n",
       "    <tr>\n",
       "      <td>5</td>\n",
       "      <td>0.007063</td>\n",
       "      <td>0.010769</td>\n",
       "      <td>0.996041</td>\n",
       "      <td>0.900462</td>\n",
       "      <td>0.893488</td>\n",
       "      <td>0.765634</td>\n",
       "      <td>11:33</td>\n",
       "    </tr>\n",
       "    <tr>\n",
       "      <td>6</td>\n",
       "      <td>0.007675</td>\n",
       "      <td>0.010250</td>\n",
       "      <td>0.996065</td>\n",
       "      <td>0.901288</td>\n",
       "      <td>0.890933</td>\n",
       "      <td>0.770370</td>\n",
       "      <td>11:32</td>\n",
       "    </tr>\n",
       "    <tr>\n",
       "      <td>7</td>\n",
       "      <td>0.007096</td>\n",
       "      <td>0.010656</td>\n",
       "      <td>0.996063</td>\n",
       "      <td>0.903339</td>\n",
       "      <td>0.894115</td>\n",
       "      <td>0.769040</td>\n",
       "      <td>11:32</td>\n",
       "    </tr>\n",
       "    <tr>\n",
       "      <td>8</td>\n",
       "      <td>0.007046</td>\n",
       "      <td>0.010478</td>\n",
       "      <td>0.996076</td>\n",
       "      <td>0.902391</td>\n",
       "      <td>0.894032</td>\n",
       "      <td>0.769542</td>\n",
       "      <td>11:32</td>\n",
       "    </tr>\n",
       "    <tr>\n",
       "      <td>9</td>\n",
       "      <td>0.007371</td>\n",
       "      <td>0.010364</td>\n",
       "      <td>0.996087</td>\n",
       "      <td>0.902404</td>\n",
       "      <td>0.893552</td>\n",
       "      <td>0.769508</td>\n",
       "      <td>11:31</td>\n",
       "    </tr>\n",
       "  </tbody>\n",
       "</table>"
      ],
      "text/plain": [
       "<IPython.core.display.HTML object>"
      ]
     },
     "metadata": {},
     "output_type": "display_data"
    },
    {
     "data": {
      "image/png": "[encoded data removed]",
      "text/plain": [
       "<Figure size 432x288 with 1 Axes>"
      ]
     },
     "metadata": {
      "needs_background": "light"
     },
     "output_type": "display_data"
    }
   ],
   "source": [
    "lr_find(plainLearn)\n",
    "plainLearn.recorder.plot()\n",
    "lr=1e-5\n",
    "plainLearn.fit_one_cycle(10,lr)\n",
    "plainLearn.save('plainLearn-unfrozen-20')"
   ]
  },
  {
   "cell_type": "code",
   "execution_count": 23,
   "metadata": {},
   "outputs": [
    {
     "name": "stdout",
     "output_type": "stream",
     "text": [
      "this Learner object self-destroyed - it still exists, but no longer usable\n"
     ]
    }
   ],
   "source": [
    "plainLearn.export('plainLearn.pkl',destroy=True)"
   ]
  },
  {
   "cell_type": "code",
   "execution_count": 24,
   "metadata": {},
   "outputs": [
    {
     "data": {
      "application/vnd.jupyter.widget-view+json": {
       "model_id": "d65bec707e45400790c707525d14176e",
       "version_major": 2,
       "version_minor": 0
      },
      "text/plain": [
       "HBox(children=(FloatProgress(value=0.0, max=7873.0), HTML(value='')))"
      ]
     },
     "metadata": {},
     "output_type": "display_data"
    },
    {
     "name": "stdout",
     "output_type": "stream",
     "text": [
      "\n"
     ]
    }
   ],
   "source": [
    "tmp = make_full_predictions('plainLearn.pkl', 'plainLearn')"
   ]
  },
  {
   "cell_type": "markdown",
   "metadata": {},
   "source": [
    "## Transfer Learning (imagenet)"
   ]
  },
  {
   "cell_type": "code",
   "execution_count": 25,
   "metadata": {},
   "outputs": [],
   "source": [
    "imagenetTransferLearn = unet_learner(data, models.resnet34, pretrained=True, metrics=[acc_seg,dice0inv,dice1,dice2], callback_fns=[partial(CSVLogger, append=True, filename=\"imagenetTransferLearn_log\")])"
   ]
  },
  {
   "cell_type": "code",
   "execution_count": 26,
   "metadata": {},
   "outputs": [
    {
     "data": {
      "text/html": [],
      "text/plain": [
       "<IPython.core.display.HTML object>"
      ]
     },
     "metadata": {},
     "output_type": "display_data"
    },
    {
     "name": "stdout",
     "output_type": "stream",
     "text": [
      "LR Finder is complete, type {learner_name}.recorder.plot() to see the graph.\n"
     ]
    },
    {
     "data": {
      "image/png": "[encoded data removed]",
      "text/plain": [
       "<Figure size 432x288 with 1 Axes>"
      ]
     },
     "metadata": {
      "needs_background": "light"
     },
     "output_type": "display_data"
    }
   ],
   "source": [
    "lr_find(imagenetTransferLearn)\n",
    "imagenetTransferLearn.recorder.plot()"
   ]
  },
  {
   "cell_type": "code",
   "execution_count": 27,
   "metadata": {},
   "outputs": [
    {
     "data": {
      "text/html": [
       "<table border=\"1\" class=\"dataframe\">\n",
       "  <thead>\n",
       "    <tr style=\"text-align: left;\">\n",
       "      <th>epoch</th>\n",
       "      <th>train_loss</th>\n",
       "      <th>valid_loss</th>\n",
       "      <th>acc_seg</th>\n",
       "      <th>diceComb</th>\n",
       "      <th>diceLV</th>\n",
       "      <th>diceMY</th>\n",
       "      <th>time</th>\n",
       "    </tr>\n",
       "  </thead>\n",
       "  <tbody>\n",
       "    <tr>\n",
       "      <td>0</td>\n",
       "      <td>0.023253</td>\n",
       "      <td>0.021871</td>\n",
       "      <td>0.991925</td>\n",
       "      <td>0.744454</td>\n",
       "      <td>0.771940</td>\n",
       "      <td>0.513451</td>\n",
       "      <td>11:07</td>\n",
       "    </tr>\n",
       "    <tr>\n",
       "      <td>1</td>\n",
       "      <td>0.014493</td>\n",
       "      <td>0.016748</td>\n",
       "      <td>0.994194</td>\n",
       "      <td>0.805831</td>\n",
       "      <td>0.811239</td>\n",
       "      <td>0.643718</td>\n",
       "      <td>11:05</td>\n",
       "    </tr>\n",
       "    <tr>\n",
       "      <td>2</td>\n",
       "      <td>0.010652</td>\n",
       "      <td>0.011413</td>\n",
       "      <td>0.995646</td>\n",
       "      <td>0.869662</td>\n",
       "      <td>0.882719</td>\n",
       "      <td>0.717505</td>\n",
       "      <td>11:04</td>\n",
       "    </tr>\n",
       "    <tr>\n",
       "      <td>3</td>\n",
       "      <td>0.009673</td>\n",
       "      <td>0.011414</td>\n",
       "      <td>0.995830</td>\n",
       "      <td>0.881875</td>\n",
       "      <td>0.885309</td>\n",
       "      <td>0.745215</td>\n",
       "      <td>11:02</td>\n",
       "    </tr>\n",
       "    <tr>\n",
       "      <td>4</td>\n",
       "      <td>0.008283</td>\n",
       "      <td>0.011342</td>\n",
       "      <td>0.995761</td>\n",
       "      <td>0.872001</td>\n",
       "      <td>0.871907</td>\n",
       "      <td>0.741959</td>\n",
       "      <td>11:01</td>\n",
       "    </tr>\n",
       "    <tr>\n",
       "      <td>5</td>\n",
       "      <td>0.008177</td>\n",
       "      <td>0.009972</td>\n",
       "      <td>0.996086</td>\n",
       "      <td>0.877444</td>\n",
       "      <td>0.884575</td>\n",
       "      <td>0.759309</td>\n",
       "      <td>11:01</td>\n",
       "    </tr>\n",
       "    <tr>\n",
       "      <td>6</td>\n",
       "      <td>0.007425</td>\n",
       "      <td>0.010029</td>\n",
       "      <td>0.996250</td>\n",
       "      <td>0.892239</td>\n",
       "      <td>0.889586</td>\n",
       "      <td>0.775344</td>\n",
       "      <td>10:59</td>\n",
       "    </tr>\n",
       "    <tr>\n",
       "      <td>7</td>\n",
       "      <td>0.006905</td>\n",
       "      <td>0.009085</td>\n",
       "      <td>0.996444</td>\n",
       "      <td>0.905464</td>\n",
       "      <td>0.902159</td>\n",
       "      <td>0.779815</td>\n",
       "      <td>10:58</td>\n",
       "    </tr>\n",
       "    <tr>\n",
       "      <td>8</td>\n",
       "      <td>0.006968</td>\n",
       "      <td>0.008930</td>\n",
       "      <td>0.996446</td>\n",
       "      <td>0.910893</td>\n",
       "      <td>0.904103</td>\n",
       "      <td>0.792732</td>\n",
       "      <td>10:59</td>\n",
       "    </tr>\n",
       "    <tr>\n",
       "      <td>9</td>\n",
       "      <td>0.006542</td>\n",
       "      <td>0.008769</td>\n",
       "      <td>0.996504</td>\n",
       "      <td>0.911097</td>\n",
       "      <td>0.906570</td>\n",
       "      <td>0.790640</td>\n",
       "      <td>11:01</td>\n",
       "    </tr>\n",
       "  </tbody>\n",
       "</table>"
      ],
      "text/plain": [
       "<IPython.core.display.HTML object>"
      ]
     },
     "metadata": {},
     "output_type": "display_data"
    }
   ],
   "source": [
    "lr=1e-4\n",
    "imagenetTransferLearn.fit_one_cycle(10,lr)\n",
    "imagenetTransferLearn.save('imagenetTransferLearn-frozen-10')"
   ]
  },
  {
   "cell_type": "code",
   "execution_count": 28,
   "metadata": {},
   "outputs": [],
   "source": [
    "imagenetTransferLearn.unfreeze()"
   ]
  },
  {
   "cell_type": "code",
   "execution_count": 29,
   "metadata": {},
   "outputs": [
    {
     "data": {
      "text/html": [],
      "text/plain": [
       "<IPython.core.display.HTML object>"
      ]
     },
     "metadata": {},
     "output_type": "display_data"
    },
    {
     "name": "stdout",
     "output_type": "stream",
     "text": [
      "LR Finder is complete, type {learner_name}.recorder.plot() to see the graph.\n"
     ]
    },
    {
     "data": {
      "image/png": "[encoded data removed]",
      "text/plain": [
       "<Figure size 432x288 with 1 Axes>"
      ]
     },
     "metadata": {
      "needs_background": "light"
     },
     "output_type": "display_data"
    }
   ],
   "source": [
    "lr_find(imagenetTransferLearn)\n",
    "imagenetTransferLearn.recorder.plot()"
   ]
  },
  {
   "cell_type": "code",
   "execution_count": 30,
   "metadata": {},
   "outputs": [
    {
     "data": {
      "text/html": [
       "<table border=\"1\" class=\"dataframe\">\n",
       "  <thead>\n",
       "    <tr style=\"text-align: left;\">\n",
       "      <th>epoch</th>\n",
       "      <th>train_loss</th>\n",
       "      <th>valid_loss</th>\n",
       "      <th>acc_seg</th>\n",
       "      <th>diceComb</th>\n",
       "      <th>diceLV</th>\n",
       "      <th>diceMY</th>\n",
       "      <th>time</th>\n",
       "    </tr>\n",
       "  </thead>\n",
       "  <tbody>\n",
       "    <tr>\n",
       "      <td>0</td>\n",
       "      <td>0.006651</td>\n",
       "      <td>0.008831</td>\n",
       "      <td>0.996482</td>\n",
       "      <td>0.911200</td>\n",
       "      <td>0.905282</td>\n",
       "      <td>0.790555</td>\n",
       "      <td>11:32</td>\n",
       "    </tr>\n",
       "    <tr>\n",
       "      <td>1</td>\n",
       "      <td>0.007014</td>\n",
       "      <td>0.008896</td>\n",
       "      <td>0.996476</td>\n",
       "      <td>0.910292</td>\n",
       "      <td>0.905171</td>\n",
       "      <td>0.790287</td>\n",
       "      <td>11:32</td>\n",
       "    </tr>\n",
       "    <tr>\n",
       "      <td>2</td>\n",
       "      <td>0.006802</td>\n",
       "      <td>0.009524</td>\n",
       "      <td>0.996446</td>\n",
       "      <td>0.912656</td>\n",
       "      <td>0.907462</td>\n",
       "      <td>0.793782</td>\n",
       "      <td>11:31</td>\n",
       "    </tr>\n",
       "    <tr>\n",
       "      <td>3</td>\n",
       "      <td>0.006393</td>\n",
       "      <td>0.008786</td>\n",
       "      <td>0.996494</td>\n",
       "      <td>0.909043</td>\n",
       "      <td>0.903428</td>\n",
       "      <td>0.788306</td>\n",
       "      <td>11:31</td>\n",
       "    </tr>\n",
       "    <tr>\n",
       "      <td>4</td>\n",
       "      <td>0.006251</td>\n",
       "      <td>0.008904</td>\n",
       "      <td>0.996498</td>\n",
       "      <td>0.911607</td>\n",
       "      <td>0.908979</td>\n",
       "      <td>0.790379</td>\n",
       "      <td>11:32</td>\n",
       "    </tr>\n",
       "    <tr>\n",
       "      <td>5</td>\n",
       "      <td>0.006415</td>\n",
       "      <td>0.008760</td>\n",
       "      <td>0.996491</td>\n",
       "      <td>0.908596</td>\n",
       "      <td>0.906856</td>\n",
       "      <td>0.786488</td>\n",
       "      <td>11:32</td>\n",
       "    </tr>\n",
       "    <tr>\n",
       "      <td>6</td>\n",
       "      <td>0.006032</td>\n",
       "      <td>0.008872</td>\n",
       "      <td>0.996489</td>\n",
       "      <td>0.907936</td>\n",
       "      <td>0.905701</td>\n",
       "      <td>0.787483</td>\n",
       "      <td>11:32</td>\n",
       "    </tr>\n",
       "    <tr>\n",
       "      <td>7</td>\n",
       "      <td>0.006520</td>\n",
       "      <td>0.008550</td>\n",
       "      <td>0.996525</td>\n",
       "      <td>0.904257</td>\n",
       "      <td>0.905720</td>\n",
       "      <td>0.783376</td>\n",
       "      <td>11:31</td>\n",
       "    </tr>\n",
       "    <tr>\n",
       "      <td>8</td>\n",
       "      <td>0.006018</td>\n",
       "      <td>0.008796</td>\n",
       "      <td>0.996491</td>\n",
       "      <td>0.908526</td>\n",
       "      <td>0.905026</td>\n",
       "      <td>0.790259</td>\n",
       "      <td>11:32</td>\n",
       "    </tr>\n",
       "    <tr>\n",
       "      <td>9</td>\n",
       "      <td>0.006176</td>\n",
       "      <td>0.008650</td>\n",
       "      <td>0.996519</td>\n",
       "      <td>0.909757</td>\n",
       "      <td>0.906930</td>\n",
       "      <td>0.790860</td>\n",
       "      <td>11:31</td>\n",
       "    </tr>\n",
       "  </tbody>\n",
       "</table>"
      ],
      "text/plain": [
       "<IPython.core.display.HTML object>"
      ]
     },
     "metadata": {},
     "output_type": "display_data"
    }
   ],
   "source": [
    "lr=1e-5\n",
    "imagenetTransferLearn.fit_one_cycle(10,lr)\n",
    "imagenetTransferLearn.save('imagenetTransferLearn-unfrozen-10')"
   ]
  },
  {
   "cell_type": "code",
   "execution_count": 31,
   "metadata": {},
   "outputs": [
    {
     "name": "stdout",
     "output_type": "stream",
     "text": [
      "this Learner object self-destroyed - it still exists, but no longer usable\n"
     ]
    }
   ],
   "source": [
    "imagenetTransferLearn.export('imagenetTransferLearn.pkl',destroy=True)"
   ]
  },
  {
   "cell_type": "code",
   "execution_count": 32,
   "metadata": {},
   "outputs": [
    {
     "data": {
      "application/vnd.jupyter.widget-view+json": {
       "model_id": "d1c20d9f33c6495084868f561b690783",
       "version_major": 2,
       "version_minor": 0
      },
      "text/plain": [
       "HBox(children=(FloatProgress(value=0.0, max=7873.0), HTML(value='')))"
      ]
     },
     "metadata": {},
     "output_type": "display_data"
    },
    {
     "name": "stdout",
     "output_type": "stream",
     "text": [
      "\n"
     ]
    }
   ],
   "source": [
    "tmp = make_full_predictions('imagenetTransferLearn.pkl', 'imagenetTransferLearn')"
   ]
  },
  {
   "cell_type": "markdown",
   "metadata": {},
   "source": [
    "## Base Network (no fine tuning)"
   ]
  },
  {
   "cell_type": "code",
   "execution_count": 33,
   "metadata": {},
   "outputs": [],
   "source": [
    "baseModel = load_learner(\"resnet34_5percent_size256_extremeTfms_ceLoss\", 'model.pkl')"
   ]
  },
  {
   "cell_type": "code",
   "execution_count": 34,
   "metadata": {},
   "outputs": [],
   "source": [
    "baseModel.data = data"
   ]
  },
  {
   "cell_type": "code",
   "execution_count": 35,
   "metadata": {},
   "outputs": [
    {
     "data": {
      "text/plain": [
       "[0.034869652, tensor(0.9928), tensor(0.7905), tensor(0.7818), tensor(0.6175)]"
      ]
     },
     "execution_count": 35,
     "metadata": {},
     "output_type": "execute_result"
    }
   ],
   "source": [
    "baseModel.validate()"
   ]
  },
  {
   "cell_type": "code",
   "execution_count": 84,
   "metadata": {},
   "outputs": [
    {
     "data": {
      "application/vnd.jupyter.widget-view+json": {
       "model_id": "364ac7cb188046c3bb84f7b2876141b4",
       "version_major": 2,
       "version_minor": 0
      },
      "text/plain": [
       "HBox(children=(FloatProgress(value=0.0, max=7873.0), HTML(value='')))"
      ]
     },
     "metadata": {},
     "output_type": "display_data"
    },
    {
     "name": "stdout",
     "output_type": "stream",
     "text": [
      "\n"
     ]
    }
   ],
   "source": [
    "tmp = make_full_predictions('../resnet34_5percent_size256_extremeTfms_ceLoss/model.pkl', 'baseModel')"
   ]
  },
  {
   "cell_type": "markdown",
   "metadata": {},
   "source": [
    "## Double Transfer Learning (imagenet, kaggle)"
   ]
  },
  {
   "cell_type": "code",
   "execution_count": 36,
   "metadata": {},
   "outputs": [],
   "source": [
    "baseModel.path = Path('images')"
   ]
  },
  {
   "cell_type": "code",
   "execution_count": 37,
   "metadata": {},
   "outputs": [],
   "source": [
    "baseModel.callback_fns[1]=partial(CSVLogger, append=True, filename=\"doubleTransferLearn_log\")"
   ]
  },
  {
   "cell_type": "code",
   "execution_count": 38,
   "metadata": {},
   "outputs": [],
   "source": [
    "baseModel.freeze_to(-1)"
   ]
  },
  {
   "cell_type": "code",
   "execution_count": 39,
   "metadata": {},
   "outputs": [
    {
     "data": {
      "text/html": [],
      "text/plain": [
       "<IPython.core.display.HTML object>"
      ]
     },
     "metadata": {},
     "output_type": "display_data"
    },
    {
     "name": "stdout",
     "output_type": "stream",
     "text": [
      "LR Finder is complete, type {learner_name}.recorder.plot() to see the graph.\n"
     ]
    }
   ],
   "source": [
    "lr_find(baseModel)"
   ]
  },
  {
   "cell_type": "code",
   "execution_count": 40,
   "metadata": {},
   "outputs": [
    {
     "data": {
      "image/png": "[encoded data removed]",
      "text/plain": [
       "<Figure size 432x288 with 1 Axes>"
      ]
     },
     "metadata": {
      "needs_background": "light"
     },
     "output_type": "display_data"
    }
   ],
   "source": [
    "baseModel.recorder.plot()"
   ]
  },
  {
   "cell_type": "code",
   "execution_count": 41,
   "metadata": {},
   "outputs": [
    {
     "data": {
      "text/html": [
       "<table border=\"1\" class=\"dataframe\">\n",
       "  <thead>\n",
       "    <tr style=\"text-align: left;\">\n",
       "      <th>epoch</th>\n",
       "      <th>train_loss</th>\n",
       "      <th>valid_loss</th>\n",
       "      <th>acc_seg</th>\n",
       "      <th>diceComb</th>\n",
       "      <th>diceLV</th>\n",
       "      <th>diceMY</th>\n",
       "      <th>time</th>\n",
       "    </tr>\n",
       "  </thead>\n",
       "  <tbody>\n",
       "    <tr>\n",
       "      <td>0</td>\n",
       "      <td>0.007869</td>\n",
       "      <td>0.009214</td>\n",
       "      <td>0.996377</td>\n",
       "      <td>0.901400</td>\n",
       "      <td>0.900145</td>\n",
       "      <td>0.775032</td>\n",
       "      <td>11:36</td>\n",
       "    </tr>\n",
       "    <tr>\n",
       "      <td>1</td>\n",
       "      <td>0.008402</td>\n",
       "      <td>0.010386</td>\n",
       "      <td>0.996106</td>\n",
       "      <td>0.879296</td>\n",
       "      <td>0.883206</td>\n",
       "      <td>0.757463</td>\n",
       "      <td>11:31</td>\n",
       "    </tr>\n",
       "    <tr>\n",
       "      <td>2</td>\n",
       "      <td>0.008025</td>\n",
       "      <td>0.010130</td>\n",
       "      <td>0.996113</td>\n",
       "      <td>0.900770</td>\n",
       "      <td>0.902134</td>\n",
       "      <td>0.777490</td>\n",
       "      <td>11:29</td>\n",
       "    </tr>\n",
       "    <tr>\n",
       "      <td>3</td>\n",
       "      <td>0.008450</td>\n",
       "      <td>0.008521</td>\n",
       "      <td>0.996530</td>\n",
       "      <td>0.896190</td>\n",
       "      <td>0.890950</td>\n",
       "      <td>0.781136</td>\n",
       "      <td>11:30</td>\n",
       "    </tr>\n",
       "    <tr>\n",
       "      <td>4</td>\n",
       "      <td>0.006907</td>\n",
       "      <td>0.007937</td>\n",
       "      <td>0.996745</td>\n",
       "      <td>0.907021</td>\n",
       "      <td>0.899561</td>\n",
       "      <td>0.788257</td>\n",
       "      <td>11:28</td>\n",
       "    </tr>\n",
       "    <tr>\n",
       "      <td>5</td>\n",
       "      <td>0.007194</td>\n",
       "      <td>0.008467</td>\n",
       "      <td>0.996498</td>\n",
       "      <td>0.918163</td>\n",
       "      <td>0.911652</td>\n",
       "      <td>0.800385</td>\n",
       "      <td>11:26</td>\n",
       "    </tr>\n",
       "    <tr>\n",
       "      <td>6</td>\n",
       "      <td>0.006471</td>\n",
       "      <td>0.008008</td>\n",
       "      <td>0.996848</td>\n",
       "      <td>0.918863</td>\n",
       "      <td>0.916224</td>\n",
       "      <td>0.802137</td>\n",
       "      <td>11:30</td>\n",
       "    </tr>\n",
       "    <tr>\n",
       "      <td>7</td>\n",
       "      <td>0.006673</td>\n",
       "      <td>0.008360</td>\n",
       "      <td>0.996556</td>\n",
       "      <td>0.913643</td>\n",
       "      <td>0.907760</td>\n",
       "      <td>0.798934</td>\n",
       "      <td>11:27</td>\n",
       "    </tr>\n",
       "    <tr>\n",
       "      <td>8</td>\n",
       "      <td>0.005595</td>\n",
       "      <td>0.007782</td>\n",
       "      <td>0.996848</td>\n",
       "      <td>0.923980</td>\n",
       "      <td>0.918291</td>\n",
       "      <td>0.810194</td>\n",
       "      <td>11:28</td>\n",
       "    </tr>\n",
       "    <tr>\n",
       "      <td>9</td>\n",
       "      <td>0.005945</td>\n",
       "      <td>0.007688</td>\n",
       "      <td>0.996926</td>\n",
       "      <td>0.922831</td>\n",
       "      <td>0.918815</td>\n",
       "      <td>0.810068</td>\n",
       "      <td>11:27</td>\n",
       "    </tr>\n",
       "  </tbody>\n",
       "</table>"
      ],
      "text/plain": [
       "<IPython.core.display.HTML object>"
      ]
     },
     "metadata": {},
     "output_type": "display_data"
    }
   ],
   "source": [
    "lr=1e-4\n",
    "baseModel.fit_one_cycle(10, lr)\n",
    "baseModel.save('doubleTransferLearn-frozen-10')"
   ]
  },
  {
   "cell_type": "code",
   "execution_count": 42,
   "metadata": {},
   "outputs": [],
   "source": [
    "baseModel.unfreeze()"
   ]
  },
  {
   "cell_type": "code",
   "execution_count": 43,
   "metadata": {},
   "outputs": [
    {
     "data": {
      "text/html": [],
      "text/plain": [
       "<IPython.core.display.HTML object>"
      ]
     },
     "metadata": {},
     "output_type": "display_data"
    },
    {
     "name": "stdout",
     "output_type": "stream",
     "text": [
      "LR Finder is complete, type {learner_name}.recorder.plot() to see the graph.\n"
     ]
    },
    {
     "data": {
      "image/png": "[encoded data removed]",
      "text/plain": [
       "<Figure size 432x288 with 1 Axes>"
      ]
     },
     "metadata": {
      "needs_background": "light"
     },
     "output_type": "display_data"
    }
   ],
   "source": [
    "lr_find(baseModel)\n",
    "baseModel.recorder.plot()"
   ]
  },
  {
   "cell_type": "code",
   "execution_count": 44,
   "metadata": {},
   "outputs": [
    {
     "data": {
      "text/html": [
       "<table border=\"1\" class=\"dataframe\">\n",
       "  <thead>\n",
       "    <tr style=\"text-align: left;\">\n",
       "      <th>epoch</th>\n",
       "      <th>train_loss</th>\n",
       "      <th>valid_loss</th>\n",
       "      <th>acc_seg</th>\n",
       "      <th>diceComb</th>\n",
       "      <th>diceLV</th>\n",
       "      <th>diceMY</th>\n",
       "      <th>time</th>\n",
       "    </tr>\n",
       "  </thead>\n",
       "  <tbody>\n",
       "    <tr>\n",
       "      <td>0</td>\n",
       "      <td>0.005871</td>\n",
       "      <td>0.007871</td>\n",
       "      <td>0.996858</td>\n",
       "      <td>0.923112</td>\n",
       "      <td>0.918225</td>\n",
       "      <td>0.809736</td>\n",
       "      <td>11:27</td>\n",
       "    </tr>\n",
       "    <tr>\n",
       "      <td>1</td>\n",
       "      <td>0.005883</td>\n",
       "      <td>0.007748</td>\n",
       "      <td>0.996883</td>\n",
       "      <td>0.920139</td>\n",
       "      <td>0.917609</td>\n",
       "      <td>0.807764</td>\n",
       "      <td>11:27</td>\n",
       "    </tr>\n",
       "    <tr>\n",
       "      <td>2</td>\n",
       "      <td>0.005411</td>\n",
       "      <td>0.008078</td>\n",
       "      <td>0.996795</td>\n",
       "      <td>0.925098</td>\n",
       "      <td>0.917812</td>\n",
       "      <td>0.812195</td>\n",
       "      <td>11:27</td>\n",
       "    </tr>\n",
       "    <tr>\n",
       "      <td>3</td>\n",
       "      <td>0.005890</td>\n",
       "      <td>0.007716</td>\n",
       "      <td>0.996913</td>\n",
       "      <td>0.923392</td>\n",
       "      <td>0.918395</td>\n",
       "      <td>0.808990</td>\n",
       "      <td>11:26</td>\n",
       "    </tr>\n",
       "    <tr>\n",
       "      <td>4</td>\n",
       "      <td>0.005842</td>\n",
       "      <td>0.008066</td>\n",
       "      <td>0.996846</td>\n",
       "      <td>0.921521</td>\n",
       "      <td>0.915359</td>\n",
       "      <td>0.808071</td>\n",
       "      <td>11:29</td>\n",
       "    </tr>\n",
       "    <tr>\n",
       "      <td>5</td>\n",
       "      <td>0.005608</td>\n",
       "      <td>0.008116</td>\n",
       "      <td>0.996800</td>\n",
       "      <td>0.919679</td>\n",
       "      <td>0.913280</td>\n",
       "      <td>0.806449</td>\n",
       "      <td>11:28</td>\n",
       "    </tr>\n",
       "    <tr>\n",
       "      <td>6</td>\n",
       "      <td>0.005564</td>\n",
       "      <td>0.007956</td>\n",
       "      <td>0.996837</td>\n",
       "      <td>0.920773</td>\n",
       "      <td>0.915266</td>\n",
       "      <td>0.807630</td>\n",
       "      <td>11:28</td>\n",
       "    </tr>\n",
       "    <tr>\n",
       "      <td>7</td>\n",
       "      <td>0.006178</td>\n",
       "      <td>0.008065</td>\n",
       "      <td>0.996814</td>\n",
       "      <td>0.927163</td>\n",
       "      <td>0.919669</td>\n",
       "      <td>0.812511</td>\n",
       "      <td>11:27</td>\n",
       "    </tr>\n",
       "    <tr>\n",
       "      <td>8</td>\n",
       "      <td>0.005860</td>\n",
       "      <td>0.008109</td>\n",
       "      <td>0.996810</td>\n",
       "      <td>0.926271</td>\n",
       "      <td>0.918609</td>\n",
       "      <td>0.812520</td>\n",
       "      <td>11:28</td>\n",
       "    </tr>\n",
       "    <tr>\n",
       "      <td>9</td>\n",
       "      <td>0.005474</td>\n",
       "      <td>0.008224</td>\n",
       "      <td>0.996792</td>\n",
       "      <td>0.923654</td>\n",
       "      <td>0.917240</td>\n",
       "      <td>0.810058</td>\n",
       "      <td>11:28</td>\n",
       "    </tr>\n",
       "  </tbody>\n",
       "</table>"
      ],
      "text/plain": [
       "<IPython.core.display.HTML object>"
      ]
     },
     "metadata": {},
     "output_type": "display_data"
    }
   ],
   "source": [
    "lr=1e-5\n",
    "baseModel.fit_one_cycle(10, lr)\n",
    "baseModel.save('doubleTransferLearn-unfrozen-10')"
   ]
  },
  {
   "cell_type": "code",
   "execution_count": 45,
   "metadata": {},
   "outputs": [
    {
     "name": "stdout",
     "output_type": "stream",
     "text": [
      "this Learner object self-destroyed - it still exists, but no longer usable\n"
     ]
    }
   ],
   "source": [
    "baseModel.export('doubleTransferLearn.pkl',destroy=True)"
   ]
  },
  {
   "cell_type": "code",
   "execution_count": 46,
   "metadata": {},
   "outputs": [
    {
     "data": {
      "application/vnd.jupyter.widget-view+json": {
       "model_id": "f82daa9e5c0d421da4ae4bf28bc99d06",
       "version_major": 2,
       "version_minor": 0
      },
      "text/plain": [
       "HBox(children=(FloatProgress(value=0.0, max=7873.0), HTML(value='')))"
      ]
     },
     "metadata": {},
     "output_type": "display_data"
    },
    {
     "name": "stdout",
     "output_type": "stream",
     "text": [
      "\n"
     ]
    }
   ],
   "source": [
    "tmp = make_full_predictions('doubleTransferLearn.pkl', 'doubleTransferLearn')"
   ]
  }
 ],
 "metadata": {
  "kernelspec": {
   "display_name": "Python 3",
   "language": "python",
   "name": "python3"
  },
  "language_info": {
   "codemirror_mode": {
    "name": "ipython",
    "version": 3
   },
   "file_extension": ".py",
   "mimetype": "text/x-python",
   "name": "python",
   "nbconvert_exporter": "python",
   "pygments_lexer": "ipython3",
   "version": "3.8.3"
  }
 },
 "nbformat": 4,
 "nbformat_minor": 4
}
